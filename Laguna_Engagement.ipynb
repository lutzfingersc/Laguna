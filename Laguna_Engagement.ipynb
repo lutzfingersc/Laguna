{
 "cells": [
  {
   "cell_type": "markdown",
   "metadata": {},
   "source": [
    "# What Are we Measuring for Effect of Laguna?\n",
    "  What are the metrics that we are measuring to understand the effect of Spectacles ? \n",
    "\n",
    "\n",
    "## List of Analyses \n",
    "\n",
    "- Engagement: Do Spectacles increase engagement?\n",
    "    - For users with Spectacles\n",
    "    - For users who consume other's Spectacles snaps\n",
    "    - Metrics to measure: \n",
    "        - Snaps taken: Do Spectacles make users to snap more?\n",
    "        - Time Spend: Do Spectacles make users to spent more time?\n",
    "        - Snap Views: Do Spectecales snaps have more viewership than other snaps? \n",
    "- What % of Spectacles users are new/resurrected users?\n",
    "- How long is the novelty effect?"
   ]
  },
  {
   "cell_type": "code",
   "execution_count": 58,
   "metadata": {
    "collapsed": false
   },
   "outputs": [],
   "source": [
    "from sklearn import linear_model\n",
    "import pandas as pd\n",
    "import numpy as np\n",
    "from datetime import datetime\n",
    "import matplotlib.pylab as plt\n",
    "import matplotlib.pyplot as pyplot\n",
    "import datetime\n",
    "from statsmodels.stats.outliers_influence import summary_table\n",
    "import scipy.stats as st\n",
    "import sklearn.linear_model as lm\n",
    "import statsmodels.api as sm\n",
    "from statsmodels.graphics.api import qqplot\n",
    "from decimal import *\n",
    "from sklearn.ensemble import RandomForestClassifier\n",
    "from sklearn.metrics import log_loss\n",
    "import  sklearn\n",
    "%matplotlib inline\n",
    "plt.style.use('ggplot')\n",
    "def mean_confidence_interval(data, confidence=0.95):\n",
    "    a = 1.0*np.array(data)\n",
    "    n = len(a)\n",
    "    m, se = np.mean(a), st.sem(a)\n",
    "    h = se * st.t._ppf((1+confidence)/2., n-1)\n",
    "    return m, m-h, m+h, h"
   ]
  },
  {
   "cell_type": "code",
   "execution_count": 50,
   "metadata": {
    "collapsed": false
   },
   "outputs": [
    {
     "name": "stdout",
     "output_type": "stream",
     "text": [
      "Requesting query... ok.\n",
      "Query running...\n",
      "Query done.\n",
      "Cache hit.\n",
      "\n",
      "Retrieving results...\n",
      "Got 20 rows.\n",
      "\n",
      "Total time taken 1.65 s.\n",
      "Finished at 2016-11-18 18:28:23.\n"
     ]
    }
   ],
   "source": [
    "querystring = \"\"\"\n",
    "select date_diff, sum(DIRECT_SNAP_CREATE) as count_snaps, count(user_id) as count_user \n",
    "from [sc-bq-gcs-billingonly:temp_messaging.zf_laguna_snaps]\n",
    "where date_diff between -14 and 5 \n",
    "group by 1\n",
    "order by date_diff\n",
    "\"\"\"\n",
    "\n",
    "bqpid = \"961149252533\"\n",
    "ladata = pd.io.gbq.read_gbq(querystring, bqpid)"
   ]
  },
  {
   "cell_type": "code",
   "execution_count": 51,
   "metadata": {
    "collapsed": false
   },
   "outputs": [
    {
     "data": {
      "text/html": [
       "<div>\n",
       "<table border=\"1\" class=\"dataframe\">\n",
       "  <thead>\n",
       "    <tr style=\"text-align: right;\">\n",
       "      <th></th>\n",
       "      <th>date_diff</th>\n",
       "      <th>count_snaps</th>\n",
       "      <th>count_user</th>\n",
       "    </tr>\n",
       "  </thead>\n",
       "  <tbody>\n",
       "    <tr>\n",
       "      <th>0</th>\n",
       "      <td>-14</td>\n",
       "      <td>7400</td>\n",
       "      <td>2117</td>\n",
       "    </tr>\n",
       "    <tr>\n",
       "      <th>1</th>\n",
       "      <td>-13</td>\n",
       "      <td>8884</td>\n",
       "      <td>2227</td>\n",
       "    </tr>\n",
       "    <tr>\n",
       "      <th>2</th>\n",
       "      <td>-12</td>\n",
       "      <td>9650</td>\n",
       "      <td>2316</td>\n",
       "    </tr>\n",
       "    <tr>\n",
       "      <th>3</th>\n",
       "      <td>-11</td>\n",
       "      <td>6834</td>\n",
       "      <td>2107</td>\n",
       "    </tr>\n",
       "    <tr>\n",
       "      <th>4</th>\n",
       "      <td>-10</td>\n",
       "      <td>6280</td>\n",
       "      <td>2070</td>\n",
       "    </tr>\n",
       "  </tbody>\n",
       "</table>\n",
       "</div>"
      ],
      "text/plain": [
       "   date_diff  count_snaps  count_user\n",
       "0        -14         7400        2117\n",
       "1        -13         8884        2227\n",
       "2        -12         9650        2316\n",
       "3        -11         6834        2107\n",
       "4        -10         6280        2070"
      ]
     },
     "execution_count": 51,
     "metadata": {},
     "output_type": "execute_result"
    }
   ],
   "source": [
    "ladata.head()"
   ]
  },
  {
   "cell_type": "code",
   "execution_count": 52,
   "metadata": {
    "collapsed": false
   },
   "outputs": [
    {
     "name": "stdout",
     "output_type": "stream",
     "text": [
      "(8834.0, 7187.1410901850977, 10480.858909814902, 1646.8589098149027)\n"
     ]
    }
   ],
   "source": [
    "stats_ladata = mean_confidence_interval(ladata['count_snaps'], confidence=0.95)\n",
    "print stats_ladata"
   ]
  },
  {
   "cell_type": "code",
   "execution_count": 59,
   "metadata": {
    "collapsed": false
   },
   "outputs": [
    {
     "data": {
      "text/plain": [
       "<matplotlib.legend.Legend at 0x11a738810>"
      ]
     },
     "execution_count": 59,
     "metadata": {},
     "output_type": "execute_result"
    },
    {
     "data": {
      "image/png": "[encoded data removed]",
      "text/plain": [
       "<matplotlib.figure.Figure at 0x11a5f2810>"
      ]
     },
     "metadata": {},
     "output_type": "display_data"
    }
   ],
   "source": [
    "%matplotlib inline\n",
    "#plot = plt.plot(andata['date'], andata['avg_l7'])\n",
    "pyplot.plot(ladata['date_diff'], ladata['count_snaps'], '-b')\n",
    "pyplot.plot(ladata['date_diff'], ladata['count_user'], '-r')\n",
    "plt.rcParams.update({'font.size': 6.5})\n",
    "pyplot.xlabel('days before and after first laguna activity')\n",
    "#pyplot.ylabel('snaps taken')\n",
    "pyplot.title('Snaps taken before and after the first laguna activity')\n",
    "pyplot.legend(['count_snaps', 'count_user'],loc='upper left', shadow=True)"
   ]
  },
  {
   "cell_type": "code",
   "execution_count": 54,
   "metadata": {
    "collapsed": false
   },
   "outputs": [],
   "source": [
    "# TO DO\n",
    "# 7-day moving average"
   ]
  },
  {
   "cell_type": "code",
   "execution_count": 55,
   "metadata": {
    "collapsed": false
   },
   "outputs": [
    {
     "data": {
      "text/plain": [
       "Ttest_indResult(statistic=-2.840208115426242, pvalue=0.021804983804031397)"
      ]
     },
     "execution_count": 55,
     "metadata": {},
     "output_type": "execute_result"
    }
   ],
   "source": [
    "# t-test\n",
    "# To DO: Make this with parameter of dates\n",
    "st.ttest_ind(ladata.loc[(ladata.date_diff > -6) & (ladata.date_diff < 0),'count_snaps'], ladata.loc[(ladata.date_diff > 0)  ,'count_snaps'], axis=0, equal_var=True, nan_policy='propagate')"
   ]
  },
  {
   "cell_type": "code",
   "execution_count": null,
   "metadata": {
    "collapsed": true
   },
   "outputs": [],
   "source": [
    "# Measure the change in time spent"
   ]
  }
 ],
 "metadata": {
  "anaconda-cloud": {},
  "kernelspec": {
   "display_name": "Python [default]",
   "language": "python",
   "name": "python2"
  },
  "language_info": {
   "codemirror_mode": {
    "name": "ipython",
    "version": 2
   },
   "file_extension": ".py",
   "mimetype": "text/x-python",
   "name": "python",
   "nbconvert_exporter": "python",
   "pygments_lexer": "ipython2",
   "version": "2.7.12"
  }
 },
 "nbformat": 4,
 "nbformat_minor": 1
}
